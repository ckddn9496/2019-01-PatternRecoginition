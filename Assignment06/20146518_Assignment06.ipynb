{
 "cells": [
  {
   "cell_type": "markdown",
   "metadata": {},
   "source": [
    "<h1>Domain clustering using L2-norm & L2-norm</h1>"
   ]
  },
  {
   "cell_type": "code",
   "execution_count": 57,
   "metadata": {},
   "outputs": [],
   "source": [
    "import PIL.Image as pilimg # for reading image\n",
    "import numpy as np\n",
    "import matplotlib.pyplot as plt\n",
    "%matplotlib inline"
   ]
  },
  {
   "cell_type": "code",
   "execution_count": 58,
   "metadata": {},
   "outputs": [],
   "source": [
    "x = np.zeros((225,225))\n",
    "y = np.zeros((225,225))\n",
    "size_row = 225\n",
    "size_col = 225\n",
    "i = 0\n",
    "while(i < 225):\n",
    "    x[i,:] = i\n",
    "    y[:,i] = i\n",
    "    i = i+1\n",
    "\n",
    "xy = np.array((y,x))\n",
    "xy = xy.transpose()\n",
    "xy = xy.reshape(-1,2)\n",
    "xy = xy.transpose()\n",
    "count = xy.shape[1]"
   ]
  },
  {
   "cell_type": "code",
   "execution_count": 59,
   "metadata": {},
   "outputs": [],
   "source": [
    "def Distance(x, y):\n",
    "\n",
    "    d = (x - y) ** 2   \n",
    "    s = np.sum(d)\n",
    "\n",
    "    return(s)"
   ]
  },
  {
   "cell_type": "code",
   "execution_count": 60,
   "metadata": {},
   "outputs": [],
   "source": [
    "def generateCluster(cluster_num, image_num):# K-means알고리즘을 시작하기 위한 함수\n",
    "    \n",
    "    # 클러스터의 개수\n",
    "    k = cluster_num\n",
    "    # 각 픽셀에 대해 소속 클러스터를 표시하기 위한 라벨\n",
    "    cluster_label = np.zeros(image_num)                   \n",
    "    # 클러스터 마다의 centroid\n",
    "    average_image = np.zeros((2, cluster_num), dtype=int) \n",
    "    # centroid와 각 pixel간의 distance를 담은 배열   \n",
    "    distance = np.zeros((cluster_num, image_num), dtype=float)\n",
    "    \n",
    "    return k, cluster_label, average_image, distance"
   ]
  },
  {
   "cell_type": "code",
   "execution_count": 61,
   "metadata": {},
   "outputs": [],
   "source": [
    "def initializeLabel(cluster_num, cluster_label): # 클러스터링 라벨 초기화\n",
    "    random_seed=np.random.rand(len(cluster_label))*100 \n",
    "    #variable that will be substituted to the label\n",
    "    \n",
    "    for i in range(len(cluster_label)):                   \n",
    "        random_seed[i] = int(random_seed[i])\n",
    "        random_seed[i] = random_seed[i] % cluster_num # 랜덤하게 초기화\n",
    "    for i in range(len(cluster_label)):                       \n",
    "        cluster_label[i] = random_seed[i]\n",
    "    return\n",
    "\n",
    "def computeCentroid(cluster_num, list_image,cluster_label):  #compute the average(center) of \n",
    "                                                #listimage sharing  same label\n",
    "    sum = np.zeros((2 ,cluster_num))      # 각 클러스터의 픽셀 값의 합\n",
    "    num = np.zeros(cluster_num)           # 각 클러스터의 픽셀 개수(dividance)\n",
    "    \n",
    "    for i in range(list_image.shape[1]): # 전체 픽셀 개수만큼 진행       \n",
    "        sum[:,int(cluster_label[i])] = sum[:,int(cluster_label[i])] + list_image[:,i]\n",
    "        # must change the type of label[i] to type(int)\n",
    "        num[int(cluster_label[i])] = num[int(cluster_label[i])]+1\n",
    "        # count the number\n",
    "    for i in range(cluster_num):\n",
    "        sum[:,i] /= num[i]                         # sum goes to be a mean value\n",
    "    return sum"
   ]
  },
  {
   "cell_type": "code",
   "execution_count": 62,
   "metadata": {},
   "outputs": [],
   "source": [
    "def assignLabel(list_image,average_image,label,distance): #compute the distance \n",
    "                                                #average images and images. \n",
    "                                                #And update the label of points\n",
    "    for i in range(list_image.shape[1]):\n",
    "        for j in range(average_image.shape[1]):\n",
    "            distance[j,i]=Distance(average_image[:,j],list_image[:,i])\n",
    "    for i in range(list_image.shape[1]):\n",
    "        for j in range(average_image.shape[1]):               \n",
    "            if distance[j,i]==distance[:,i].min():  #when thd distance is minimum\n",
    "                label[i]=j                          #update label\n",
    "    return\n",
    "\n",
    "def represent(label,list_label,num):#num : 0 ~ k-1. we don't know what the most number \n",
    "                                    #in the cluster(num)'s is. this funstion \n",
    "                                    #will return the most number of certain cluster.\n",
    "    num_arr=np.zeros(10)\n",
    "    num_rep=-1\n",
    "    for i in range(len(label)):\n",
    "        if(label[i]==num):\n",
    "            num_arr[list_label[i]]+=1\n",
    "    for i in range(10):\n",
    "        if(num_arr.max()==num_arr[i]):\n",
    "            num_rep=i\n",
    "    return num_rep                  #return the number that appeared the most\n",
    "\n",
    "# def computeAccuracy(label,list_label,cluster_num): #compute the accuracy\n",
    "#     sum=0\n",
    "#     num_arr=np.zeros(10)\n",
    "#     for j in range(cluster_num):\n",
    "#         num=0\n",
    "#         for ii in range(10):\n",
    "#             num_arr[ii]=0\n",
    "#         for i in range(len(label)):\n",
    "#             if(label[i]==j):\n",
    "#                 num_arr[list_label[i]]+=1\n",
    "#                 num+=1\n",
    "#         sum+=num_arr.max()/num\n",
    "#     return 100*sum/cluster_num  #accuracy will be returned \n",
    "\n",
    "def plotEnergyAndAccuracy(energy,accuracy): #plot the energy and accuracy\n",
    "    plt.figure(1)\n",
    "    x=np.arange(1,len(energy)+1)\n",
    "    plt.plot(x, energy, 'b', label=\"energy\")\n",
    "    plt.plot(x, accuracy, 'r', label=\"accuracy\")\n",
    "    plt.xlabel('number of iterations')\n",
    "    plt.legend(bbox_to_anchor=(1.05, 1), loc=2, borderaxespad=0.)\n",
    "    plt.show()\n",
    "    \n",
    "def plotEnergy(energy): #plot the energy\n",
    "    plt.figure(1)\n",
    "    x = np.arange(1,len(energy)+1)\n",
    "    plt.title('Energy Curve')\n",
    "    plt.plot(x, energy, 'b', label=\"energy\")\n",
    "    plt.xlabel('number of iterations')\n",
    "    plt.legend(bbox_to_anchor=(1.05, 1), loc=2, borderaxespad=0.)\n",
    "    plt.show()"
   ]
  },
  {
   "cell_type": "code",
   "execution_count": 63,
   "metadata": {},
   "outputs": [],
   "source": [
    "def plotCentoidImages(average_pixel, cluster_label):  \n",
    "    # draw image using average_pixels \n",
    "    \n",
    "    plt.figure(1)\n",
    "    # centroid pixel로만 만들 이미지 배열\n",
    "    output_pixel = np.zeros((3, count), dtype=int) \n",
    "    for i in range(count):\n",
    "        output_pixel[:,i] = average_pixel[:,int(cluster_label[i])]\n",
    "\n",
    "    output_pixel = output_pixel.transpose()\n",
    "    output_pixel = output_pixel.reshape(size_row, size_col, 3)\n",
    "    plt.title('output image')\n",
    "    plt.imshow(output_pixel)\n",
    "    return"
   ]
  },
  {
   "cell_type": "code",
   "execution_count": 64,
   "metadata": {},
   "outputs": [],
   "source": [
    "def computeEnergy(distance):        #compute the Energy\n",
    "    energy_sum=0\n",
    "    for i in range(distance.shape[1]):\n",
    "        energy_sum+=distance[:,i].min() #add all of the distance between\n",
    "                             #images and corresponding average images(center)\n",
    "    return energy_sum/distance.shape[1]"
   ]
  },
  {
   "cell_type": "code",
   "execution_count": 65,
   "metadata": {},
   "outputs": [],
   "source": [
    "def visualization(average_image,k):\n",
    "    final_image = np.zeros((3,k), dtype = int)\n",
    "    color_red = [244, 67, 54]\n",
    "    color_purple = [171, 71, 188]\n",
    "    color_blue = [66, 165, 245]\n",
    "    color_sky = [77, 208, 225]\n",
    "    color_green = [102, 187, 106]\n",
    "    color_yellow = [255, 238, 88]\n",
    "    for i in range(k):\n",
    "        if(i == 0):\n",
    "            final_image[:,i] = color_red\n",
    "        if(i == 1):\n",
    "            final_image[:,i] = color_purple\n",
    "        if(i == 2):\n",
    "            final_image[:,i] = color_green\n",
    "        if(i == 3):\n",
    "            final_image[:,i] = color_blue\n",
    "        if(i == 4):\n",
    "            final_image[:,i] = color_yellow\n",
    "        if(i == 5):\n",
    "            final_image[:,i] = color_sky\n",
    "    return final_image"
   ]
  },
  {
   "cell_type": "markdown",
   "metadata": {},
   "source": [
    "<h2>Use L2-norm</h2>"
   ]
  },
  {
   "cell_type": "markdown",
   "metadata": {},
   "source": [
    "<h3>K=2</h3>"
   ]
  },
  {
   "cell_type": "code",
   "execution_count": 66,
   "metadata": {
    "scrolled": true
   },
   "outputs": [
    {
     "name": "stdout",
     "output_type": "stream",
     "text": [
      "1 Centroid 1 : 61.892857142857146 133.46554993678888\n",
      "1 Centroid 2 : 162.10516335479792 90.53529806818631\n",
      "2 Centroid 1 : 59.17730720606827 128.03445006321112\n",
      "2 Centroid 2 : 164.82060601272073 95.96618338403192\n",
      "3 Centroid 1 : 57.473707083876576 123.38003239698155\n",
      "3 Centroid 2 : 166.51983092359959 100.62131626767797\n",
      "4 Centroid 1 : 56.56558154235145 119.82458912768648\n",
      "4 Centroid 2 : 167.43222849919013 104.17571998577806\n",
      "5 Centroid 1 : 56.1218394437421 117.28618836915297\n",
      "5 Centroid 2 : 167.8759530675937 106.7140204637933\n",
      "6 Centroid 1 : 55.9150962032318 115.55039310971515\n",
      "6 Centroid 2 : 168.07825709093783 108.45002765268231\n",
      "7 Centroid 1 : 55.82201414404804 114.37126150685472\n",
      "7 Centroid 2 : 168.17132811882752 109.62901951489295\n",
      "8 Centroid 1 : 55.780609221287186 113.58717553632808\n",
      "8 Centroid 2 : 168.21272813462906 110.41301256221854\n",
      "9 Centroid 1 : 55.76414348925411 113.05578381795196\n",
      "9 Centroid 2 : 168.23363489116264 110.94425789120216\n",
      "10 Centroid 1 : 55.75560998735777 112.68884323640961\n",
      "10 Centroid 2 : 168.24216805593963 111.31118397661281\n",
      "11 Centroid 1 : 55.752449431099876 112.48759481668773\n",
      "11 Centroid 2 : 168.24532848733853 111.51242444593687\n",
      "12 Centroid 1 : 55.75 112.25\n",
      "12 Centroid 2 : 168.24777782167266 111.75000987634812\n",
      "13 Centroid 1 : 55.75 112.25\n",
      "13 Centroid 2 : 168.24777782167266 111.75000987634812\n"
     ]
    },
    {
     "data": {
      "image/png": "[encoded data removed]",
      "text/plain": [
       "<Figure size 432x288 with 1 Axes>"
      ]
     },
     "metadata": {},
     "output_type": "display_data"
    }
   ],
   "source": [
    "k,cluster_label,average_image,distance=generateCluster(2, count) #2 - cluster\n",
    "initializeLabel(k,cluster_label)\n",
    "average_image=computeCentroid(k,xy,cluster_label)\n",
    "pre_average_image=np.zeros((2,2), dtype=int)\n",
    "energy=[]\n",
    "accuracy=[]\n",
    "num_iteration=0\n",
    "while not np.array_equal(pre_average_image,average_image):\n",
    "    assignLabel(xy,average_image,cluster_label,distance)\n",
    "    pre_average_image=average_image\n",
    "    average_image=computeCentroid(k,xy,cluster_label)\n",
    "    energy.append(computeEnergy(distance))\n",
    "    num_iteration+=1\n",
    "    for i in range(k):\n",
    "        print(num_iteration ,\"Centroid\",i+1,\":\",average_image[0][i],average_image[1][i])\n",
    "average_image=visualization(average_image,k)\n",
    "plotCentoidImages(average_image,cluster_label)"
   ]
  },
  {
   "cell_type": "markdown",
   "metadata": {},
   "source": [
    "<h3>K=3</h3>"
   ]
  },
  {
   "cell_type": "code",
   "execution_count": 67,
   "metadata": {
    "scrolled": false
   },
   "outputs": [
    {
     "name": "stdout",
     "output_type": "stream",
     "text": [
      "1 Centroid 1 : 184.49120449548008 111.3796726117762\n",
      "1 Centroid 2 : 72.10969426176013 162.61288217279983\n",
      "1 Centroid 3 : 84.63492395702525 42.375191851541786\n",
      "2 Centroid 1 : 182.88560760353022 115.94421814890246\n",
      "2 Centroid 2 : 69.90567335243553 166.48154727793695\n",
      "2 Centroid 3 : 78.5508742499516 46.16213949287051\n",
      "3 Centroid 1 : 181.5910455910456 116.5906087906088\n",
      "3 Centroid 2 : 68.57494216486059 168.59107512480213\n",
      "3 Centroid 3 : 76.66507177033493 48.18471417778897\n",
      "4 Centroid 1 : 180.92947617003006 116.47928295405754\n",
      "4 Centroid 2 : 68.06072545340838 169.69155722326454\n",
      "4 Centroid 3 : 75.65025307754796 49.140161219771294\n",
      "5 Centroid 1 : 180.61751716064492 116.17458628212633\n",
      "5 Centroid 2 : 67.97898867160306 170.2858046959053\n",
      "5 Centroid 3 : 74.94972241282515 49.65660283201297\n",
      "6 Centroid 1 : 180.47083752714943 115.80309371192456\n",
      "6 Centroid 2 : 68.0950139913508 170.64767234800306\n",
      "6 Centroid 3 : 74.42124313529706 49.97010733899151\n",
      "7 Centroid 1 : 180.39266656099753 115.44333491837058\n",
      "7 Centroid 2 : 68.26927488212056 170.8887472919587\n",
      "7 Centroid 3 : 73.99962509372656 50.17970507373157\n",
      "8 Centroid 1 : 180.36164600369295 115.1095753099446\n",
      "8 Centroid 2 : 68.4842185806287 171.07913026844355\n",
      "8 Centroid 3 : 73.63526615374992 50.35741540001251\n",
      "9 Centroid 1 : 180.31825125098763 114.83065578087964\n",
      "9 Centroid 2 : 68.63672323593212 171.22591552890137\n",
      "9 Centroid 3 : 73.3337091319053 50.4913566328448\n",
      "10 Centroid 1 : 180.32722389003 114.53310159582873\n",
      "10 Centroid 2 : 68.87645033788091 171.36421012367717\n",
      "10 Centroid 3 : 73.07741975927783 50.610644433299896\n",
      "11 Centroid 1 : 180.33270152161322 114.26578213025851\n",
      "11 Centroid 2 : 69.07146952035161 171.462513535894\n",
      "11 Centroid 3 : 72.84177493252997 50.709847486349084\n",
      "12 Centroid 1 : 180.33880817014108 114.03016424510423\n",
      "12 Centroid 2 : 69.2591343093571 171.55786123488224\n",
      "12 Centroid 3 : 72.63163515296186 50.80149506878573\n",
      "13 Centroid 1 : 180.33873684210528 113.81273684210527\n",
      "13 Centroid 2 : 69.42935301227813 171.6499141166741\n",
      "13 Centroid 3 : 72.43832516031686 50.886017854897524\n",
      "14 Centroid 1 : 180.34987893462468 113.62090746394357\n",
      "14 Centroid 2 : 69.57856598016781 171.7210780574625\n",
      "14 Centroid 3 : 72.29336269267066 50.954010695187165\n",
      "15 Centroid 1 : 180.34806862435534 113.45926744553205\n",
      "15 Centroid 2 : 69.70904816368027 171.78815605540728\n",
      "15 Centroid 3 : 72.14006924771797 51.01951526597419\n",
      "16 Centroid 1 : 180.34564588266247 113.30902394106813\n",
      "16 Centroid 2 : 69.84422844800203 171.8637951845499\n",
      "16 Centroid 3 : 71.98897915485861 51.089741167579824\n",
      "17 Centroid 1 : 180.34883720930233 113.16600021045986\n",
      "17 Centroid 2 : 69.94978096628786 171.90895816138658\n",
      "17 Centroid 3 : 71.87490547012857 51.136186034786995\n",
      "18 Centroid 1 : 180.3520282001368 113.04224759299206\n",
      "18 Centroid 2 : 70.03483502538072 171.94511421319797\n",
      "18 Centroid 3 : 71.78080464119057 51.17612561483163\n",
      "19 Centroid 1 : 180.35081811964014 112.9406534434682\n",
      "19 Centroid 2 : 70.11650177574835 171.97983257229833\n",
      "19 Centroid 3 : 71.7018927444795 51.202460567823344\n",
      "20 Centroid 1 : 180.34629142556548 112.84829037348764\n",
      "20 Centroid 2 : 70.19057883725354 172.01128510746213\n",
      "20 Centroid 3 : 71.61349577073602 51.23216765559904\n",
      "21 Centroid 1 : 180.350044715661 112.76184965016571\n",
      "21 Centroid 2 : 70.2698060590696 172.04633033337558\n",
      "21 Centroid 3 : 71.53737845687587 51.2667634802374\n",
      "22 Centroid 1 : 180.35093902888104 112.67415434794044\n",
      "22 Centroid 2 : 70.36626322793232 172.08877764400228\n",
      "22 Centroid 3 : 71.44041679823177 51.30685191032523\n",
      "23 Centroid 1 : 180.35128879537086 112.59526564965807\n",
      "23 Centroid 2 : 70.45203396274236 172.12964136357877\n",
      "23 Centroid 3 : 71.347691530348 51.34933367018253\n",
      "24 Centroid 1 : 180.34639457213484 112.50980907799926\n",
      "24 Centroid 2 : 70.50300766162223 172.13322358006712\n",
      "24 Centroid 3 : 71.28263480624565 51.352866805739936\n",
      "25 Centroid 1 : 180.34744648398464 112.44569505075475\n",
      "25 Centroid 2 : 70.55024044545685 172.1294608959757\n",
      "25 Centroid 3 : 71.23469129554655 51.3496963562753\n",
      "26 Centroid 1 : 180.34791984431703 112.39636038499974\n",
      "26 Centroid 2 : 70.58332806274113 172.13243944089558\n",
      "26 Centroid 3 : 71.2013163723815 51.35257262198595\n",
      "27 Centroid 1 : 180.34548227621752 112.35600084148523\n",
      "27 Centroid 2 : 70.60805513404148 172.13657056145675\n",
      "27 Centroid 3 : 71.17277619499842 51.35492244381133\n",
      "28 Centroid 1 : 180.34267683407836 112.3145937417828\n",
      "28 Centroid 2 : 70.63091024020227 172.14551201011378\n",
      "28 Centroid 3 : 71.14648511716275 51.36136795440152\n",
      "29 Centroid 1 : 180.34106325918916 112.30399116579902\n",
      "29 Centroid 2 : 70.63333544023766 172.14171038493143\n",
      "29 Centroid 3 : 71.13219737758915 51.36257680369925\n",
      "30 Centroid 1 : 180.35649658074698 112.27201472908995\n",
      "30 Centroid 2 : 70.67220467466835 172.13878711307643\n",
      "30 Centroid 3 : 71.12334494773519 51.362179284130505\n",
      "31 Centroid 1 : 180.35500499710693 112.2564830887381\n",
      "31 Centroid 2 : 70.67841576653402 172.14193670646202\n",
      "31 Centroid 3 : 71.11201926123044 51.366216815561046\n",
      "32 Centroid 1 : 180.35191710934623 112.24851417451218\n",
      "32 Centroid 2 : 70.67841576653402 172.14193670646202\n",
      "32 Centroid 3 : 71.10189468348014 51.36810088080603\n",
      "33 Centroid 1 : 180.35039183716404 112.2399936885289\n",
      "33 Centroid 2 : 70.68456291056089 172.1449595755432\n",
      "33 Centroid 3 : 71.09759188846641 51.36768060836502\n",
      "34 Centroid 1 : 180.35263794645206 112.23039293040871\n",
      "34 Centroid 2 : 70.69571807502842 172.14892004547178\n",
      "34 Centroid 3 : 71.09759188846641 51.36768060836502\n",
      "35 Centroid 1 : 180.35232233969808 112.22313397506707\n",
      "35 Centroid 2 : 70.70072623934323 172.1498579096937\n",
      "35 Centroid 3 : 71.09297167120857 51.36783066100514\n",
      "36 Centroid 1 : 180.3542346133614 112.2197790636507\n",
      "36 Centroid 2 : 70.70535488759788 172.15010103561505\n",
      "36 Centroid 3 : 71.09297167120857 51.36783066100514\n",
      "37 Centroid 1 : 180.3542346133614 112.2197790636507\n",
      "37 Centroid 2 : 70.70535488759788 172.15010103561505\n",
      "37 Centroid 3 : 71.09297167120857 51.36783066100514\n"
     ]
    },
    {
     "data": {
      "image/png": "[encoded data removed]",
      "text/plain": [
       "<Figure size 432x288 with 1 Axes>"
      ]
     },
     "metadata": {},
     "output_type": "display_data"
    }
   ],
   "source": [
    "k,cluster_label,average_image,distance=generateCluster(3, count) #3 - cluster\n",
    "initializeLabel(k,cluster_label)\n",
    "average_image=computeCentroid(k,xy,cluster_label)\n",
    "pre_average_image=np.zeros((2,2), dtype=int)\n",
    "energy=[]\n",
    "accuracy=[]\n",
    "num_iteration=0\n",
    "while not np.array_equal(pre_average_image,average_image):\n",
    "    assignLabel(xy,average_image,cluster_label,distance)\n",
    "    pre_average_image=average_image\n",
    "    average_image=computeCentroid(k,xy,cluster_label)\n",
    "    energy.append(computeEnergy(distance))\n",
    "    num_iteration+=1\n",
    "    for i in range(k):\n",
    "        print(num_iteration ,\"Centroid\",i+1,\":\",average_image[0][i],average_image[1][i])\n",
    "average_image=visualization(average_image,k)\n",
    "plotCentoidImages(average_image,cluster_label)"
   ]
  },
  {
   "cell_type": "markdown",
   "metadata": {},
   "source": [
    "<h3>K=4</h3>"
   ]
  },
  {
   "cell_type": "code",
   "execution_count": 68,
   "metadata": {
    "scrolled": true
   },
   "outputs": [
    {
     "name": "stdout",
     "output_type": "stream",
     "text": [
      "1 Centroid 1 : 62.1960037319235 173.20618877313015\n",
      "1 Centroid 2 : 177.6667999086341 136.20049109182276\n",
      "1 Centroid 3 : 184.60324483775813 40.17551622418879\n",
      "1 Centroid 4 : 83.4605323660144 52.615337454656924\n",
      "2 Centroid 1 : 60.86732839368097 169.7096323221026\n",
      "2 Centroid 2 : 173.87522976251745 153.83545327549444\n",
      "2 Centroid 3 : 179.51489572989075 42.99801390268123\n",
      "2 Centroid 4 : 67.397558314009 54.79648069840404\n",
      "3 Centroid 1 : 58.48413350257597 169.35212424400805\n",
      "3 Centroid 2 : 171.1133133881825 160.31024682124158\n",
      "3 Centroid 3 : 174.29551820728292 48.11814725890356\n",
      "3 Centroid 4 : 61.78270589932208 56.07457089283139\n",
      "4 Centroid 1 : 57.08231565929819 169.26294635956097\n",
      "4 Centroid 2 : 169.60597764088524 163.68575557076585\n",
      "4 Centroid 3 : 171.47529369563267 51.253340507577796\n",
      "4 Centroid 4 : 58.95264062149847 56.49107342944648\n",
      "5 Centroid 1 : 56.34365665775822 169.12977519257979\n",
      "5 Centroid 2 : 168.8332691863598 165.56185051189286\n",
      "5 Centroid 3 : 170.0027961362481 53.07015760040671\n",
      "5 Centroid 4 : 57.47597254004577 56.53569794050343\n",
      "6 Centroid 1 : 55.97142857142857 168.9612979817966\n",
      "6 Centroid 2 : 168.5052778640174 166.6144830797889\n",
      "6 Centroid 3 : 169.20942666776344 54.11532450440075\n",
      "6 Centroid 4 : 56.7379720441733 56.423893736968104\n",
      "7 Centroid 1 : 55.85509427982887 168.73538266518776\n",
      "7 Centroid 2 : 168.39676334922993 167.31741067938395\n",
      "7 Centroid 3 : 168.7275664324368 54.8210160730151\n",
      "7 Centroid 4 : 56.271374016054864 56.21744213233575\n",
      "8 Centroid 1 : 55.79571768437748 168.62038065027755\n",
      "8 Centroid 2 : 168.1978953981467 167.7393591958536\n",
      "8 Centroid 3 : 168.59846547314578 55.23529411764706\n",
      "8 Centroid 4 : 56.0012530346934 56.12029133056622\n",
      "9 Centroid 1 : 55.75111111111111 168.62444444444444\n",
      "9 Centroid 2 : 168.2511013215859 167.87885462555067\n",
      "9 Centroid 3 : 168.4190415538927 55.43265403598153\n",
      "9 Centroid 4 : 55.92094737667634 56.06705356442632\n",
      "10 Centroid 1 : 55.75111111111111 168.62444444444444\n",
      "10 Centroid 2 : 168.2511013215859 167.87885462555067\n",
      "10 Centroid 3 : 168.38313444709627 55.411058074781224\n",
      "10 Centroid 4 : 55.88574119124225 56.08875461037432\n",
      "11 Centroid 1 : 55.75111111111111 168.62444444444444\n",
      "11 Centroid 2 : 168.2511013215859 167.87885462555067\n",
      "11 Centroid 3 : 168.3472730163778 55.39457783431388\n",
      "11 Centroid 4 : 55.85049077345897 56.10545740086376\n",
      "12 Centroid 1 : 55.75111111111111 168.62444444444444\n",
      "12 Centroid 2 : 168.2511013215859 167.87885462555067\n",
      "12 Centroid 3 : 168.31593166468016 55.38434644417958\n",
      "12 Centroid 4 : 55.8196103079824 56.11596480201131\n",
      "13 Centroid 1 : 55.75111111111111 168.62444444444444\n",
      "13 Centroid 2 : 168.2511013215859 167.87885462555067\n",
      "13 Centroid 3 : 168.29356632247817 55.379428117553616\n",
      "13 Centroid 4 : 55.7975320286096 56.12111923288533\n",
      "14 Centroid 1 : 55.75111111111111 168.62444444444444\n",
      "14 Centroid 2 : 168.2511013215859 167.87885462555067\n",
      "14 Centroid 3 : 168.28015564202335 55.37743190661479\n",
      "14 Centroid 4 : 55.78427672955975 56.123270440251574\n",
      "15 Centroid 1 : 55.75111111111111 168.62444444444444\n",
      "15 Centroid 2 : 168.2511013215859 167.87885462555067\n",
      "15 Centroid 3 : 168.2712187375943 55.37649861055974\n",
      "15 Centroid 4 : 55.775436389369396 56.12431199874194\n",
      "16 Centroid 1 : 55.75111111111111 168.62444444444444\n",
      "16 Centroid 2 : 168.2511013215859 167.87885462555067\n",
      "16 Centroid 3 : 168.2622846709534 55.37588314678098\n",
      "16 Centroid 4 : 55.76659326832337 56.12503932054105\n",
      "17 Centroid 1 : 55.75111111111111 168.62444444444444\n",
      "17 Centroid 2 : 168.2511013215859 167.87885462555067\n",
      "17 Centroid 3 : 168.25781870138118 55.37569455469122\n",
      "17 Centroid 4 : 55.7621706645694 56.1252850963429\n",
      "18 Centroid 1 : 55.75111111111111 168.62444444444444\n",
      "18 Centroid 2 : 168.2511013215859 167.87885462555067\n",
      "18 Centroid 3 : 168.25335344074927 55.37558536391777\n",
      "18 Centroid 4 : 55.75774736510933 56.1254522573541\n",
      "19 Centroid 1 : 55.75111111111111 168.62444444444444\n",
      "19 Centroid 2 : 168.2511013215859 167.87885462555067\n",
      "19 Centroid 3 : 168.25335344074927 55.37558536391777\n",
      "19 Centroid 4 : 55.75774736510933 56.1254522573541\n"
     ]
    },
    {
     "data": {
      "image/png": "[encoded data removed]",
      "text/plain": [
       "<Figure size 432x288 with 1 Axes>"
      ]
     },
     "metadata": {},
     "output_type": "display_data"
    }
   ],
   "source": [
    "k,cluster_label,average_image,distance=generateCluster(4, count) #4 - cluster\n",
    "initializeLabel(k,cluster_label)\n",
    "average_image=computeCentroid(k,xy,cluster_label)\n",
    "pre_average_image=np.zeros((2,2), dtype=int)\n",
    "energy=[]\n",
    "accuracy=[]\n",
    "num_iteration=0\n",
    "while not np.array_equal(pre_average_image,average_image):\n",
    "    assignLabel(xy,average_image,cluster_label,distance)\n",
    "    pre_average_image=average_image\n",
    "    average_image=computeCentroid(k,xy,cluster_label)\n",
    "    energy.append(computeEnergy(distance))\n",
    "    num_iteration+=1\n",
    "    for i in range(k):\n",
    "        print(num_iteration ,\"Centroid\",i+1,\":\",average_image[0][i],average_image[1][i])\n",
    "average_image=visualization(average_image,k)\n",
    "plotCentoidImages(average_image,cluster_label)"
   ]
  },
  {
   "cell_type": "markdown",
   "metadata": {},
   "source": [
    "<h2>Use L1-norm</h2>"
   ]
  },
  {
   "cell_type": "code",
   "execution_count": 70,
   "metadata": {},
   "outputs": [],
   "source": [
    "def Distance(x, y):\n",
    "    d = abs(x - y)\n",
    "    s = np.sum(d)\n",
    "    return(s)"
   ]
  },
  {
   "cell_type": "markdown",
   "metadata": {},
   "source": [
    "<h3>K=2</h3>"
   ]
  },
  {
   "cell_type": "code",
   "execution_count": 71,
   "metadata": {},
   "outputs": [
    {
     "name": "stdout",
     "output_type": "stream",
     "text": [
      "1 Centroid 1 : 55.752222178327344 111.75000987634812\n",
      "1 Centroid 2 : 168.25 112.25\n",
      "2 Centroid 1 : 55.752222178327344 111.75000987634812\n",
      "2 Centroid 2 : 168.25 112.25\n"
     ]
    },
    {
     "data": {
      "image/png": "[encoded data removed]",
      "text/plain": [
       "<Figure size 432x288 with 1 Axes>"
      ]
     },
     "metadata": {},
     "output_type": "display_data"
    }
   ],
   "source": [
    "k,cluster_label,average_image,distance=generateCluster(2, count) #2 - cluster\n",
    "initializeLabel(k,cluster_label)\n",
    "average_image=computeCentroid(k,xy,cluster_label)\n",
    "pre_average_image=np.zeros((2,2), dtype=int)\n",
    "energy=[]\n",
    "accuracy=[]\n",
    "num_iteration=0\n",
    "while not np.array_equal(pre_average_image,average_image):\n",
    "    assignLabel(xy,average_image,cluster_label,distance)\n",
    "    pre_average_image=average_image\n",
    "    average_image=computeCentroid(k,xy,cluster_label)\n",
    "    energy.append(computeEnergy(distance))\n",
    "    num_iteration+=1\n",
    "    for i in range(k):\n",
    "        print(num_iteration ,\"Centroid\",i+1,\":\",average_image[0][i],average_image[1][i])\n",
    "average_image=visualization(average_image,k)\n",
    "plotCentoidImages(average_image,cluster_label)"
   ]
  },
  {
   "cell_type": "markdown",
   "metadata": {},
   "source": [
    "<h3>K=3</h3>"
   ]
  },
  {
   "cell_type": "code",
   "execution_count": 74,
   "metadata": {
    "scrolled": true
   },
   "outputs": [
    {
     "name": "stdout",
     "output_type": "stream",
     "text": [
      "1 Centroid 1 : 112.0 168.5\n",
      "1 Centroid 2 : 112.0 55.5\n",
      "1 Centroid 3 : 112.0 112.0\n",
      "2 Centroid 1 : 112.0 182.5\n",
      "2 Centroid 2 : 112.0 41.5\n",
      "2 Centroid 3 : 112.0 112.0\n",
      "3 Centroid 1 : 112.0 186.0\n",
      "3 Centroid 2 : 112.0 38.0\n",
      "3 Centroid 3 : 112.0 112.0\n",
      "4 Centroid 1 : 112.0 187.0\n",
      "4 Centroid 2 : 112.0 37.0\n",
      "4 Centroid 3 : 112.0 112.0\n",
      "5 Centroid 1 : 112.0 187.0\n",
      "5 Centroid 2 : 112.0 37.0\n",
      "5 Centroid 3 : 112.0 112.0\n"
     ]
    },
    {
     "data": {
      "image/png": "[encoded data removed]",
      "text/plain": [
       "<Figure size 432x288 with 1 Axes>"
      ]
     },
     "metadata": {},
     "output_type": "display_data"
    }
   ],
   "source": [
    "k,cluster_label,average_image,distance=generateCluster(3, count) #3 - cluster\n",
    "initializeLabel(k,cluster_label)\n",
    "average_image=computeCentroid(k,xy,cluster_label)\n",
    "pre_average_image=np.zeros((2,2), dtype=int)\n",
    "energy=[]\n",
    "accuracy=[]\n",
    "num_iteration=0\n",
    "while not np.array_equal(pre_average_image,average_image):\n",
    "    assignLabel(xy,average_image,cluster_label,distance)\n",
    "    pre_average_image=average_image\n",
    "    average_image=computeCentroid(k,xy,cluster_label)\n",
    "    energy.append(computeEnergy(distance))\n",
    "    num_iteration+=1\n",
    "    for i in range(k):\n",
    "        print(num_iteration ,\"Centroid\",i+1,\":\",average_image[0][i],average_image[1][i])\n",
    "average_image=visualization(average_image,k)\n",
    "plotCentoidImages(average_image,cluster_label)"
   ]
  },
  {
   "cell_type": "markdown",
   "metadata": {},
   "source": [
    "<h3>K=4</h3>"
   ]
  },
  {
   "cell_type": "code",
   "execution_count": 75,
   "metadata": {},
   "outputs": [
    {
     "name": "stdout",
     "output_type": "stream",
     "text": [
      "1 Centroid 1 : 168.0 168.5\n",
      "1 Centroid 2 : 168.0 112.0\n",
      "1 Centroid 3 : 168.0 55.5\n",
      "1 Centroid 4 : 55.5 112.0\n",
      "2 Centroid 1 : 156.1652386780906 183.65361077111382\n",
      "2 Centroid 2 : 168.0 112.0\n",
      "2 Centroid 3 : 156.1652386780906 40.34638922888617\n",
      "2 Centroid 4 : 47.65703022339028 112.0\n",
      "3 Centroid 1 : 147.27062505433366 187.39789620099106\n",
      "3 Centroid 2 : 170.84731643460668 112.0\n",
      "3 Centroid 3 : 147.27062505433366 36.60210379900895\n",
      "3 Centroid 4 : 44.03944629475437 112.0\n",
      "4 Centroid 1 : 141.49614791987673 188.2477315528163\n",
      "4 Centroid 2 : 174.75952145757876 112.0\n",
      "4 Centroid 3 : 141.49614791987673 35.7522684471837\n",
      "4 Centroid 4 : 42.52617079889807 112.0\n",
      "5 Centroid 1 : 138.18356835261335 188.09685046018745\n",
      "5 Centroid 2 : 177.83433219178082 112.0\n",
      "5 Centroid 3 : 138.18356835261335 35.903149539812546\n",
      "5 Centroid 4 : 41.790281329923275 112.0\n",
      "6 Centroid 1 : 136.20891271569778 187.8744345786564\n",
      "6 Centroid 2 : 179.70794220018985 112.0\n",
      "6 Centroid 3 : 136.20891271569778 36.12556542134361\n",
      "6 Centroid 4 : 41.35192263145703 112.0\n",
      "7 Centroid 1 : 134.93253968253967 187.38657407407408\n",
      "7 Centroid 2 : 181.23193473193473 112.0\n",
      "7 Centroid 3 : 134.93253968253967 36.613425925925924\n",
      "7 Centroid 4 : 40.90879670491321 112.0\n",
      "8 Centroid 1 : 134.3706322453342 187.0437392090767\n",
      "8 Centroid 2 : 182.27738158594997 112.0\n",
      "8 Centroid 3 : 134.3706322453342 36.956260790923295\n",
      "8 Centroid 4 : 40.7479886417416 112.0\n",
      "9 Centroid 1 : 134.1060693403607 186.9778473194433\n",
      "9 Centroid 2 : 182.7552729199788 112.0\n",
      "9 Centroid 3 : 134.1060693403607 37.0221526805567\n",
      "9 Centroid 4 : 40.7479886417416 112.0\n",
      "10 Centroid 1 : 133.58037902303545 186.8809834994282\n",
      "10 Centroid 2 : 182.7552729199788 112.0\n",
      "10 Centroid 3 : 133.58037902303545 37.1190165005718\n",
      "10 Centroid 4 : 40.41194780318448 112.0\n",
      "11 Centroid 1 : 133.32016036655213 186.8138602520046\n",
      "11 Centroid 2 : 183.21899736147756 112.0\n",
      "11 Centroid 3 : 133.32016036655213 37.18613974799542\n",
      "11 Centroid 4 : 40.41194780318448 112.0\n",
      "12 Centroid 1 : 133.32016036655213 186.8138602520046\n",
      "12 Centroid 2 : 183.21899736147756 112.0\n",
      "12 Centroid 3 : 133.32016036655213 37.18613974799542\n",
      "12 Centroid 4 : 40.41194780318448 112.0\n"
     ]
    },
    {
     "data": {
      "image/png": "[encoded data removed]",
      "text/plain": [
       "<Figure size 432x288 with 1 Axes>"
      ]
     },
     "metadata": {},
     "output_type": "display_data"
    }
   ],
   "source": [
    "k,cluster_label,average_image,distance=generateCluster(4, count) #4 - cluster\n",
    "initializeLabel(k,cluster_label)\n",
    "average_image=computeCentroid(k,xy,cluster_label)\n",
    "pre_average_image=np.zeros((2,2), dtype=int)\n",
    "energy=[]\n",
    "accuracy=[]\n",
    "num_iteration=0\n",
    "while not np.array_equal(pre_average_image,average_image):\n",
    "    assignLabel(xy,average_image,cluster_label,distance)\n",
    "    pre_average_image=average_image\n",
    "    average_image=computeCentroid(k,xy,cluster_label)\n",
    "    energy.append(computeEnergy(distance))\n",
    "    num_iteration+=1\n",
    "    for i in range(k):\n",
    "        print(num_iteration ,\"Centroid\",i+1,\":\",average_image[0][i],average_image[1][i])\n",
    "average_image=visualization(average_image,k)\n",
    "plotCentoidImages(average_image,cluster_label)"
   ]
  },
  {
   "cell_type": "code",
   "execution_count": null,
   "metadata": {},
   "outputs": [],
   "source": []
  }
 ],
 "metadata": {
  "kernelspec": {
   "display_name": "Python 3",
   "language": "python",
   "name": "python3"
  },
  "language_info": {
   "codemirror_mode": {
    "name": "ipython",
    "version": 3
   },
   "file_extension": ".py",
   "mimetype": "text/x-python",
   "name": "python",
   "nbconvert_exporter": "python",
   "pygments_lexer": "ipython3",
   "version": "3.6.5"
  }
 },
 "nbformat": 4,
 "nbformat_minor": 2
}
