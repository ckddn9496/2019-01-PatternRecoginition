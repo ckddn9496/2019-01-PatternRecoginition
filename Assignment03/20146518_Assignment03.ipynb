{
 "cells": [
  {
   "cell_type": "code",
   "execution_count": 1,
   "metadata": {},
   "outputs": [],
   "source": [
    "import matplotlib.pyplot as plt\n",
    "import numpy as np"
   ]
  },
  {
   "cell_type": "code",
   "execution_count": 5,
   "metadata": {},
   "outputs": [],
   "source": [
    "# read file that has mnist data\n",
    "file_data = \"C:\\\\Users\\\\ckddn\\\\OneDrive\\\\바탕 화면\\\\학교\\\\4학년1학기\\\\패턴인식\\\\mnist_train.csv\"\n",
    "handle_file = open(file_data, \"r\")\n",
    "data = handle_file.readlines()\n",
    "handle_file.close()"
   ]
  },
  {
   "cell_type": "code",
   "execution_count": 6,
   "metadata": {},
   "outputs": [],
   "source": [
    "size_row = 28 # height of the image\n",
    "size_col = 28 # width of the image\n",
    "num_image = len(data) # number of the images\n",
    "count = 0 # count for the number of images"
   ]
  },
  {
   "cell_type": "code",
   "execution_count": 7,
   "metadata": {},
   "outputs": [],
   "source": [
    "# normalize the values of the input data to be [0, 1]\n",
    "def normalize(data):\n",
    "    data_normalized = (data - min(data)) / (max(data) - min(data))\n",
    "    return(data_normalized)"
   ]
  },
  {
   "cell_type": "code",
   "execution_count": 8,
   "metadata": {},
   "outputs": [],
   "source": [
    "# make a matrix each column of which represents an images in a vector form\n",
    "list_image = np.empty((size_row * size_col, num_image), dtype=float)\n",
    "list_label = np.empty(num_image, dtype=int)\n",
    "for line in data:\n",
    "    line_data = line.split(',') # to anaylze CSV file\n",
    "    label = line_data[0] # get label\n",
    "    im_vector = np.asfarray(line_data[1:]) # get image vector 1 ~ 28*28 + 1\n",
    "    im_vector = normalize(im_vector) # normalize \n",
    "    list_label[count] = label # save label\n",
    "    list_image[:, count] = im_vector # save image array\n",
    "    count += 1 # do until there is no next data"
   ]
  },
  {
   "cell_type": "code",
   "execution_count": 9,
   "metadata": {},
   "outputs": [
    {
     "name": "stdout",
     "output_type": "stream",
     "text": [
      "[5923 6742 5958 6131 5842 5421 5918 6265 5851 5949]\n"
     ]
    }
   ],
   "source": [
    "# count the number of labels to calculate average of each labels\n",
    "num_labels = np.zeros(10, dtype=int)\n",
    "for i in range(num_image):\n",
    "    num_labels[list_label[i]] += 1\n",
    "print(num_labels)"
   ]
  },
  {
   "cell_type": "markdown",
   "metadata": {},
   "source": [
    "$$L2-norm$$\n",
    "$$||x|| = sqrt(x_1^2 + x_2^2 + \\dots + x_n^2)$$"
   ]
  },
  {
   "cell_type": "markdown",
   "metadata": {},
   "source": [
    "$$Average\\: based\\: on\\: L2-norm$$\n",
    "$$\\frac{||x||^2}{n} = \\frac{sqrt(x_1^2 + x_2^2 + \\dots + x_n^2)}{n}$$"
   ]
  },
  {
   "cell_type": "code",
   "execution_count": 10,
   "metadata": {},
   "outputs": [
    {
     "data": {
      "image/png": "[encoded data removed]",
      "text/plain": [
       "<Figure size 432x288 with 10 Axes>"
      ]
     },
     "metadata": {},
     "output_type": "display_data"
    }
   ],
   "source": [
    "# calculate square sum of each image pixels\n",
    "sum_L2norm_image = np.zeros((10, size_row * size_col), dtype=float);\n",
    "for i in range(num_image):\n",
    "    sum_L2norm_image[list_label[i],:] += list_image[:,i]**2\n",
    "    \n",
    "# calculate L2-norm of images\n",
    "f1 = plt.figure(1)\n",
    "for i in range(10):\n",
    "    sum_L2norm_image[i] = np.sqrt(sum_L2norm_image[i]) / num_labels[i]\n",
    "    im_vector = sum_L2norm_image[i]\n",
    "    im_matrix = im_vector.reshape((size_row, size_col))\n",
    "    plt.subplot(1, 10, i+1) # draw in (1, 10) matrix at i+1 block\n",
    "    plt.title(i) # write label\n",
    "    plt.imshow(im_matrix, cmap='Greys', interpolation='None')\n",
    "    frame = plt.gca()\n",
    "    frame.axes.get_xaxis().set_visible(False)\n",
    "    frame.axes.get_yaxis().set_visible(False)\n",
    "    \n",
    "plt.show()"
   ]
  },
  {
   "cell_type": "code",
   "execution_count": null,
   "metadata": {},
   "outputs": [],
   "source": []
  }
 ],
 "metadata": {
  "kernelspec": {
   "display_name": "Python 3",
   "language": "python",
   "name": "python3"
  },
  "language_info": {
   "codemirror_mode": {
    "name": "ipython",
    "version": 3
   },
   "file_extension": ".py",
   "mimetype": "text/x-python",
   "name": "python",
   "nbconvert_exporter": "python",
   "pygments_lexer": "ipython3",
   "version": "3.6.5"
  }
 },
 "nbformat": 4,
 "nbformat_minor": 2
}
